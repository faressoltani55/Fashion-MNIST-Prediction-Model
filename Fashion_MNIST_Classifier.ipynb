{
  "nbformat": 4,
  "nbformat_minor": 0,
  "metadata": {
    "colab": {
      "name": "Fashion MNIST Classifier.ipynb",
      "provenance": [],
      "collapsed_sections": [],
      "toc_visible": true,
      "include_colab_link": true
    },
    "kernelspec": {
      "display_name": "Python 3",
      "name": "python3"
    }
  },
  "cells": [
    {
      "cell_type": "markdown",
      "metadata": {
        "id": "view-in-github",
        "colab_type": "text"
      },
      "source": [
        "<a href=\"https://colab.research.google.com/github/faressoltani55/Fashion-MNIST-Prediction-Model/blob/main/Fashion_MNIST_Classifier.ipynb\" target=\"_parent\"><img src=\"https://colab.research.google.com/assets/colab-badge.svg\" alt=\"Open In Colab\"/></a>"
      ]
    },
    {
      "cell_type": "markdown",
      "metadata": {
        "id": "iQjHqsmTAVLU"
      },
      "source": [
        "## Description\n",
        "This is a classification model using tensorflow neural networks that allows us to determine the label of the object from the dataset Fashion MNIST.\n",
        "I used convolution and pooling to determine features in the images and to reduce their sizes.\n"
      ]
    },
    {
      "cell_type": "code",
      "metadata": {
        "id": "sfQRyaJWAIdg"
      },
      "source": [
        "def train_mnist_conv():\n",
        "    \n",
        "    # Callback function\n",
        "    class Callback(tf.keras.callbacks.Callback):\n",
        "        def on_epoch_end(self, epoch, logs={}):\n",
        "            if(logs.get('acc')>0.998):\n",
        "                print(\"Reached 99.8% accuracy so cancelling training!\")\n",
        "                self.model.stop_training = True\n",
        "    callbacks = Callback()\n",
        "\n",
        "    # Importing the dataset\n",
        "    mnist = tf.keras.datasets.mnist\n",
        "    (training_images, training_labels), (test_images, test_labels) = mnist.load_data(path=path)\n",
        "    \n",
        "    # Reshaping data to fit the model requirement : 1 4D tensor\n",
        "    training_images = training_images.reshape(60000,28,28,1) / 255.0\n",
        "    test_images = test_images.reshape(10000,28,28,1) / 255.0\n",
        "\n",
        "    # Training the model using 2 sets of convolution and pooling on the images\n",
        "    model = tf.keras.models.Sequential([\n",
        "            tf.keras.layers.Conv2D(16,(3,3),activation='relu', input_shape= (28,28,1)),\n",
        "            tf.keras.layers.MaxPooling2D(2,2),\n",
        "            tf.keras.layers.Conv2D(32,(3,3),activation='relu'),\n",
        "            tf.keras.layers.MaxPooling2D(2,2),\n",
        "            tf.keras.layers.Flatten(),\n",
        "            tf.keras.layers.Dense(128, activation='relu'),\n",
        "            tf.keras.layers.Dense(10, activation='softmax')\n",
        "    ])\n",
        "\n",
        "    model.compile(optimizer='adam', loss='sparse_categorical_crossentropy', metrics=['accuracy'])\n",
        "    \n",
        "    # model fitting\n",
        "    history = model.fit(\n",
        "        training_images,\n",
        "        training_labels,\n",
        "        callbacks=[callbacks],\n",
        "        epochs=20\n",
        "    )\n",
        "    \n",
        "    return model"
      ],
      "execution_count": null,
      "outputs": []
    }
  ]
}